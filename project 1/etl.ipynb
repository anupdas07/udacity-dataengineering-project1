{
 "cells": [
  {
   "cell_type": "markdown",
   "metadata": {
    "editable": true
   },
   "source": [
    "# ETL Processes\n",
    "Use this notebook to develop the ETL process for each of your tables before completing the `etl.py` file to load the whole datasets."
   ]
  },
  {
   "cell_type": "code",
   "execution_count": 27,
   "metadata": {
    "editable": true
   },
   "outputs": [],
   "source": [
    "# DROP TABLES\n",
    "\n",
    "songplay_table_drop = \"DROP TABLE IF EXISTS fact_songplays ;\"\n",
    "user_table_drop = \"DROP TABLE IF EXISTS  dim_users ;\"\n",
    "song_table_drop = \"DROP TABLE IF EXISTS  dim_songs ;\"\n",
    "artist_table_drop = \"DROP TABLE IF EXISTS  dim_artists ;\"\n",
    "time_table_drop = \"DROP TABLE IF EXISTS  dim_time ;\"\n",
    "\n",
    "# CREATE TABLES\n",
    "\n",
    "songplay_table_create = \"CREATE TABLE IF NOT EXISTS fact_songplays ( start_time timestamp, user_id varchar, level varchar, song_id varchar, artist_id varchar, session_id int, location varchar, user_agent varchar);\"\n",
    "user_table_create = \"CREATE TABLE IF NOT EXISTS dim_users (user_id varchar, first_name varchar, last_name varchar, gender varchar, level varchar);\"\n",
    "song_table_create = \"CREATE TABLE IF NOT EXISTS dim_songs (song_id varchar, title varchar, artist_id varchar, year int, durationInSec int);\"\n",
    "artist_table_create = \"CREATE TABLE IF NOT EXISTS dim_artists (artist_id varchar, name varchar, location varchar, latitude varchar, longitude varchar);\"\n",
    "time_table_create = \"CREATE TABLE IF NOT EXISTS dim_time (start_time timestamp, hour int, day int, week int, month int, year int, weekday int);\"\n",
    "\n",
    "# INSERT RECORDS\n",
    "\n",
    "songplay_table_insert = (\n",
    "    \"\"\"INSERT INTO fact_songplays ( start_time , user_id , level , song_id , artist_id , session_id , location , user_agent ) VALUES ( %s, %s,%s,%s,%s,%s,%s,%s);\n",
    "    \"\"\"\n",
    ")\n",
    "\n",
    "user_table_insert = (\n",
    "    \"\"\"\n",
    "    INSERT INTO dim_users (user_id , first_name , last_name , gender , level ) VALUES (%s, %s, %s,%s,%s);\n",
    "    \"\"\"\n",
    ")\n",
    "song_table_insert = (\n",
    "    \"\"\"\n",
    "    INSERT INTO dim_songs (song_id , title , artist_id , year , durationInSec ) VALUES (%s, %s, %s,%s,%s);\n",
    "    \"\"\"\n",
    ")\n",
    "artist_table_insert = (\n",
    "    \"\"\"\n",
    "    INSERT INTO dim_artists (artist_id , name , location , latitude , longitude ) VALUES (%s, %s, %s,%s,%s);\n",
    "    \"\"\"\n",
    ")\n",
    "time_table_insert = (\n",
    "    \"\"\"\n",
    "    INSERT INTO dim_time (start_time , hour , day , week , month , year , weekday ) VALUES (%s, %s, %s,%s,%s,%s,%s);\n",
    "    \"\"\"\n",
    ")\n",
    "\n",
    "# FIND SONGS\n",
    "\n",
    "song_select = (\n",
    "    \"\"\"\n",
    "SELECT ds.song_id,ds.artist_id \n",
    "FROM dim_songs as ds \n",
    "JOIN dim_artists as da \n",
    "ON ds.artist_id = da.artist_id\n",
    "WHERE ds.title = %s and da.name = %s and ds.durationInSec=%s;\n",
    "    \"\"\" \n",
    ")\n",
    "\n",
    "# QUERY LISTS\n",
    "\n",
    "create_table_queries = [songplay_table_create, user_table_create, song_table_create, artist_table_create, time_table_create]\n",
    "drop_table_queries = [songplay_table_drop, user_table_drop, song_table_drop, artist_table_drop, time_table_drop]"
   ]
  },
  {
   "cell_type": "code",
   "execution_count": 3,
   "metadata": {
    "editable": true
   },
   "outputs": [],
   "source": [
    "import psycopg2\n",
    "from sql_queries import create_table_queries, drop_table_queries\n",
    "\n",
    "\n",
    "def create_database():\n",
    "    # connect to default database\n",
    "    conn = psycopg2.connect(\"host=127.0.0.1 dbname=studentdb user=student password=student\")\n",
    "    conn.set_session(autocommit=True)\n",
    "    cur = conn.cursor()\n",
    "    \n",
    "    # create sparkify database with UTF8 encoding\n",
    "    cur.execute(\"DROP DATABASE IF EXISTS sparkifydb\")\n",
    "    cur.execute(\"CREATE DATABASE sparkifydb WITH ENCODING 'utf8' TEMPLATE template0\")\n",
    "\n",
    "    # close connection to default database\n",
    "    conn.close()    \n",
    "    \n",
    "    # connect to sparkify database\n",
    "    conn = psycopg2.connect(\"host=127.0.0.1 dbname=sparkifydb user=student password=student\")\n",
    "    cur = conn.cursor()\n",
    "    \n",
    "    return cur, conn\n",
    "\n",
    "\n",
    "def drop_tables(cur, conn):\n",
    "    for query in drop_table_queries:\n",
    "        cur.execute(query)\n",
    "        conn.commit()\n",
    "\n",
    "\n",
    "def create_tables(cur, conn):\n",
    "    for query in create_table_queries:\n",
    "        cur.execute(query)\n",
    "        conn.commit()\n",
    "\n",
    "\n",
    "def main():\n",
    "    cur, conn = create_database()\n",
    "    \n",
    "    drop_tables(cur, conn)\n",
    "    create_tables(cur, conn)\n",
    "\n",
    "    conn.close()\n",
    "\n",
    "\n",
    "if __name__ == \"__main__\":\n",
    "    main()"
   ]
  },
  {
   "cell_type": "code",
   "execution_count": 4,
   "metadata": {
    "editable": true
   },
   "outputs": [],
   "source": [
    "import os\n",
    "import glob\n",
    "import psycopg2\n",
    "import pandas as pd\n",
    "from sql_queries import *"
   ]
  },
  {
   "cell_type": "code",
   "execution_count": 5,
   "metadata": {
    "editable": true
   },
   "outputs": [],
   "source": [
    "conn = psycopg2.connect(\"host=127.0.0.1 dbname=sparkifydb user=student password=student\")\n",
    "cur = conn.cursor()\n",
    "\n",
    " "
   ]
  },
  {
   "cell_type": "code",
   "execution_count": 6,
   "metadata": {
    "editable": true
   },
   "outputs": [],
   "source": [
    "def get_files(filepath):\n",
    "    all_files = []\n",
    "    for root, dirs, files in os.walk(filepath):\n",
    "        files = glob.glob(os.path.join(root,'*.json'))\n",
    "        for f in files :\n",
    "            all_files.append(os.path.abspath(f))\n",
    "    \n",
    "    return all_files"
   ]
  },
  {
   "cell_type": "markdown",
   "metadata": {
    "editable": true
   },
   "source": [
    "# Process `song_data`\n",
    "In this first part, you'll perform ETL on the first dataset, `song_data`, to create the `songs` and `artists` dimensional tables.\n",
    "\n",
    "Let's perform ETL on a single song file and load a single record into each table to start.\n",
    "- Use the `get_files` function provided above to get a list of all song JSON files in `data/song_data`\n",
    "- Select the first song in this list\n",
    "- Read the song file and view the data"
   ]
  },
  {
   "cell_type": "code",
   "execution_count": 7,
   "metadata": {
    "editable": true
   },
   "outputs": [],
   "source": [
    "song_files = get_files(\"data/song_data/\")\n",
    "#print(song_files)"
   ]
  },
  {
   "cell_type": "code",
   "execution_count": 8,
   "metadata": {
    "editable": true
   },
   "outputs": [],
   "source": [
    "for filepath in song_files:\n",
    "    df = pd.read_json(filepath, lines=True)\n",
    "    #df.head()\n",
    "    song_data = list([df.values[0][7],df.values[0][8],df.values[0][0],df.values[0][9],df.values[0][5]])\n",
    "    cur.execute(song_table_insert, song_data)\n",
    "    conn.commit()"
   ]
  },
  {
   "cell_type": "code",
   "execution_count": 9,
   "metadata": {
    "editable": true
   },
   "outputs": [],
   "source": [
    "#filepath = song_files[0]"
   ]
  },
  {
   "cell_type": "code",
   "execution_count": 10,
   "metadata": {
    "editable": true
   },
   "outputs": [],
   "source": [
    "#df = pd.read_json(filepath, lines=True)\n",
    "#df.head()\n",
    "\n",
    "\n"
   ]
  },
  {
   "cell_type": "markdown",
   "metadata": {
    "editable": true
   },
   "source": [
    "## #1: `songs` Table\n",
    "#### Extract Data for Songs Table\n",
    "- Select columns for song ID, title, artist ID, year, and duration\n",
    "- Use `df.values` to select just the values from the dataframe\n",
    "- Index to select the first (only) record in the dataframe\n",
    "- Convert the array to a list and set it to `song_data`"
   ]
  },
  {
   "cell_type": "code",
   "execution_count": 11,
   "metadata": {
    "editable": true
   },
   "outputs": [],
   "source": [
    "#song_data = list([df.values[0][7],df.values[0][8],df.values[0][0],df.values[0][9],df.values[0][5]])\n",
    "#song_data"
   ]
  },
  {
   "cell_type": "markdown",
   "metadata": {
    "editable": true
   },
   "source": [
    "#### Insert Record into Song Table\n",
    "Implement the `song_table_insert` query in `sql_queries.py` and run the cell below to insert a record for this song into the `songs` table. Remember to run `create_tables.py` before running the cell below to ensure you've created/resetted the `songs` table in the sparkify database."
   ]
  },
  {
   "cell_type": "code",
   "execution_count": 12,
   "metadata": {
    "editable": true
   },
   "outputs": [],
   "source": [
    "#print (song_table_insert)\n",
    "#cur.execute(song_table_insert, song_data)\n",
    "#conn.commit()"
   ]
  },
  {
   "cell_type": "markdown",
   "metadata": {
    "editable": true
   },
   "source": [
    "Run `test.ipynb` to see if you've successfully added a record to this table."
   ]
  },
  {
   "cell_type": "markdown",
   "metadata": {
    "editable": true
   },
   "source": [
    "## #2: `artists` Table\n",
    "#### Extract Data for Artists Table\n",
    "- Select columns for artist ID, name, location, latitude, and longitude\n",
    "- Use `df.values` to select just the values from the dataframe\n",
    "- Index to select the first (only) record in the dataframe\n",
    "- Convert the array to a list and set it to `artist_data`"
   ]
  },
  {
   "cell_type": "code",
   "execution_count": 13,
   "metadata": {
    "editable": true
   },
   "outputs": [],
   "source": [
    "for idx,filepath in enumerate(song_files):\n",
    "    df = pd.read_json(filepath, lines=True)\n",
    "    #df.head()\n",
    "    \n",
    "    artist_data = list([df.values[0][0],df.values[0][4],df.values[0][2],df.values[0][1],df.values[0][3]])\n",
    "    #print(artist_data)\n",
    "    cur.execute(artist_table_insert, artist_data)\n",
    "    conn.commit()\n",
    "\n",
    "\n",
    "#artist_data = list([df.values[0][0],df.values[0][4],df.values[0][2],df.values[0][1],df.values[0][3]])\n",
    "#artist_data"
   ]
  },
  {
   "cell_type": "markdown",
   "metadata": {
    "editable": true
   },
   "source": [
    "#### Insert Record into Artist Table\n",
    "Implement the `artist_table_insert` query in `sql_queries.py` and run the cell below to insert a record for this song's artist into the `artists` table. Remember to run `create_tables.py` before running the cell below to ensure you've created/resetted the `artists` table in the sparkify database."
   ]
  },
  {
   "cell_type": "code",
   "execution_count": 14,
   "metadata": {
    "editable": true
   },
   "outputs": [],
   "source": [
    "#cur.execute(artist_table_insert, artist_data)\n",
    "#conn.commit()"
   ]
  },
  {
   "cell_type": "markdown",
   "metadata": {
    "editable": true
   },
   "source": [
    "Run `test.ipynb` to see if you've successfully added a record to this table."
   ]
  },
  {
   "cell_type": "markdown",
   "metadata": {
    "editable": true
   },
   "source": [
    "# Process `log_data`\n",
    "In this part, you'll perform ETL on the second dataset, `log_data`, to create the `time` and `users` dimensional tables, as well as the `songplays` fact table.\n",
    "\n",
    "Let's perform ETL on a single log file and load a single record into each table.\n",
    "- Use the `get_files` function provided above to get a list of all log JSON files in `data/log_data`\n",
    "- Select the first log file in this list\n",
    "- Read the log file and view the data"
   ]
  },
  {
   "cell_type": "code",
   "execution_count": 15,
   "metadata": {
    "editable": true
   },
   "outputs": [],
   "source": [
    "log_files = get_files(\"data/log_data/\")\n",
    "#print (log_files)"
   ]
  },
  {
   "cell_type": "code",
   "execution_count": 16,
   "metadata": {
    "editable": true
   },
   "outputs": [],
   "source": [
    "#filepath = log_files[0]\n",
    "for idx,filepath in enumerate(log_files):\n",
    "    df = pd.read_json(filepath, lines=True)\n",
    "    df = df[df[\"page\"]==\"NextSong\"]\n",
    "    \n",
    "    t = pd.to_datetime(df['ts'], unit='ms')\n",
    "    time_data = (t,t.dt.hour,t.dt.day,t.dt.week,t.dt.month,t.dt.year,t.dt.weekday)\n",
    "    column_labels = (\"start_time\" , \"hour\" , \"day\" , \"week\" , \"month\" , \"year\" , \"weekday\")\n",
    "    time_df = pd.DataFrame(list(zip(time_data[0],time_data[1],time_data[2],time_data[3],time_data[4],time_data[5],time_data[6])),columns =column_labels)\n",
    "    for i, row in time_df.iterrows():\n",
    "        cur.execute(time_table_insert, list(row))\n",
    "        \n",
    "    \n",
    "    user_df = pd.DataFrame(list(zip(df[\"userId\"],df[\"firstName\"],df[\"lastName\"],df[\"gender\"],df[\"level\"])),columns = (\"userId\",\"firstName\",\"lastName\",\"gender\",\"level\"))\n",
    "    \n",
    "    for i, row in user_df.iterrows():\n",
    "        cur.execute(user_table_insert, row)\n",
    "    \n",
    "    conn.commit()\n",
    "    "
   ]
  },
  {
   "cell_type": "code",
   "execution_count": 17,
   "metadata": {
    "editable": true
   },
   "outputs": [],
   "source": [
    "#df = pd.read_json(filepath, lines=True)\n",
    "#df.head()"
   ]
  },
  {
   "cell_type": "markdown",
   "metadata": {
    "editable": true
   },
   "source": [
    "## #3: `time` Table\n",
    "#### Extract Data for Time Table\n",
    "- Filter records by `NextSong` action\n",
    "- Convert the `ts` timestamp column to datetime\n",
    "  - Hint: the current timestamp is in milliseconds\n",
    "- Extract the timestamp, hour, day, week of year, month, year, and weekday from the `ts` column and set `time_data` to a list containing these values in order\n",
    "  - Hint: use pandas' [`dt` attribute](https://pandas.pydata.org/pandas-docs/stable/reference/api/pandas.Series.dt.html) to access easily datetimelike properties.\n",
    "- Specify labels for these columns and set to `column_labels`\n",
    "- Create a dataframe, `time_df,` containing the time data for this file by combining `column_labels` and `time_data` into a dictionary and converting this into a dataframe"
   ]
  },
  {
   "cell_type": "code",
   "execution_count": 18,
   "metadata": {
    "editable": true
   },
   "outputs": [],
   "source": [
    "\n",
    "#df = df[df[\"page\"]==\"NextSong\"]\n",
    "#df.head()"
   ]
  },
  {
   "cell_type": "code",
   "execution_count": 19,
   "metadata": {
    "editable": true
   },
   "outputs": [],
   "source": [
    "#t = pd.to_datetime(df['ts'], unit='ms') \n",
    "#t.head()\n",
    "\n",
    "\n"
   ]
  },
  {
   "cell_type": "code",
   "execution_count": 20,
   "metadata": {
    "editable": true
   },
   "outputs": [],
   "source": [
    "#time_data = (t,t.dt.hour,t.dt.day,t.dt.week,t.dt.month,t.dt.year,t.dt.weekday)\n",
    "#column_labels = (\"start_time\" , \"hour\" , \"day\" , \"week\" , \"month\" , \"year\" , \"weekday\")\n",
    "#print(column_labels)"
   ]
  },
  {
   "cell_type": "code",
   "execution_count": 21,
   "metadata": {
    "editable": true
   },
   "outputs": [],
   "source": [
    "#time_df = pd.DataFrame(list(zip(time_data[0],time_data[1],time_data[2],time_data[3],time_data[4],time_data[5],time_data[6])),columns =column_labels)\n",
    "#time_df.head()"
   ]
  },
  {
   "cell_type": "markdown",
   "metadata": {
    "editable": true
   },
   "source": [
    "#### Insert Records into Time Table\n",
    "Implement the `time_table_insert` query in `sql_queries.py` and run the cell below to insert records for the timestamps in this log file into the `time` table. Remember to run `create_tables.py` before running the cell below to ensure you've created/resetted the `time` table in the sparkify database."
   ]
  },
  {
   "cell_type": "code",
   "execution_count": 22,
   "metadata": {
    "editable": true
   },
   "outputs": [],
   "source": [
    "#for i, row in time_df.iterrows():\n",
    "#    cur.execute(time_table_insert, list(row))\n",
    "#    conn.commit()"
   ]
  },
  {
   "cell_type": "markdown",
   "metadata": {
    "editable": true
   },
   "source": [
    "Run `test.ipynb` to see if you've successfully added records to this table."
   ]
  },
  {
   "cell_type": "markdown",
   "metadata": {
    "editable": true
   },
   "source": [
    "## #4: `users` Table\n",
    "#### Extract Data for Users Table\n",
    "- Select columns for user ID, first name, last name, gender and level and set to `user_df`"
   ]
  },
  {
   "cell_type": "code",
   "execution_count": 23,
   "metadata": {
    "editable": true
   },
   "outputs": [],
   "source": [
    "#user_df = pd.DataFrame(list(zip(df[\"userId\"],df[\"firstName\"],df[\"lastName\"],df[\"gender\"],df[\"level\"])),columns = (\"userId\",\"firstName\",\"lastName\",\"gender\",\"level\"))\n"
   ]
  },
  {
   "cell_type": "markdown",
   "metadata": {
    "editable": true
   },
   "source": [
    "#### Insert Records into Users Table\n",
    "Implement the `user_table_insert` query in `sql_queries.py` and run the cell below to insert records for the users in this log file into the `users` table. Remember to run `create_tables.py` before running the cell below to ensure you've created/resetted the `users` table in the sparkify database."
   ]
  },
  {
   "cell_type": "code",
   "execution_count": 24,
   "metadata": {
    "editable": true
   },
   "outputs": [],
   "source": [
    "#for i, row in user_df.iterrows():\n",
    "#    cur.execute(user_table_insert, row)\n",
    "#    conn.commit()"
   ]
  },
  {
   "cell_type": "markdown",
   "metadata": {
    "editable": true
   },
   "source": [
    "Run `test.ipynb` to see if you've successfully added records to this table."
   ]
  },
  {
   "cell_type": "markdown",
   "metadata": {
    "editable": true
   },
   "source": [
    "## #5: `songplays` Table\n",
    "#### Extract Data and Songplays Table\n",
    "This one is a little more complicated since information from the songs table, artists table, and original log file are all needed for the `songplays` table. Since the log file does not specify an ID for either the song or the artist, you'll need to get the song ID and artist ID by querying the songs and artists tables to find matches based on song title, artist name, and song duration time.\n",
    "- Implement the `song_select` query in `sql_queries.py` to find the song ID and artist ID based on the title, artist name, and duration of a song.\n",
    "- Select the timestamp, user ID, level, song ID, artist ID, session ID, location, and user agent and set to `songplay_data`\n",
    "\n",
    "#### Insert Records into Songplays Table\n",
    "- Implement the `songplay_table_insert` query and run the cell below to insert records for the songplay actions in this log file into the `songplays` table. Remember to run `create_tables.py` before running the cell below to ensure you've created/resetted the `songplays` table in the sparkify database."
   ]
  },
  {
   "cell_type": "code",
   "execution_count": 25,
   "metadata": {
    "editable": true
   },
   "outputs": [
    {
     "name": "stdout",
     "output_type": "stream",
     "text": [
      "('SOINLJW12A8C13314C', 'City Slickers', 'AR8IEZO1187B99055E', 2008, 150)\n"
     ]
    }
   ],
   "source": [
    "cur.execute(\"select * from dim_songs;\")\n",
    "#cur.execute(\"SELECT ds.song_id,ds.artist_id FROM dim_songs as ds JOIN dim_artists as da ON ds.artist_id = da.artist_id ;\")\n",
    "results = cur.fetchone()\n",
    "print(results)\n",
    "# ds.title = %s and da.name = %s and ds.durationInSec=%s"
   ]
  },
  {
   "cell_type": "code",
   "execution_count": 29,
   "metadata": {
    "editable": true
   },
   "outputs": [],
   "source": [
    "for index, row in df.iterrows():\n",
    "    #print(row.ts)\n",
    "    # get songid and artistid from song and artist tables\n",
    "    cur.execute(song_select, (row.song, row.artist, row.length))\n",
    "    results = cur.fetchone()\n",
    "    \n",
    "    #print(results)\n",
    "    if results:\n",
    "        songid, artistid = results\n",
    "    else:\n",
    "        songid, artistid = None, None\n",
    "    \n",
    "    # insert songplay record\n",
    "    t = pd.to_datetime(row.ts, unit='ms')\n",
    "    \n",
    "    songplay_data = ( t , row.userId , row.level , songid , artistid , row.sessionId , row.location , row.userAgent )\n",
    "    cur.execute(songplay_table_insert, songplay_data)\n",
    "    conn.commit()"
   ]
  },
  {
   "cell_type": "markdown",
   "metadata": {
    "editable": true
   },
   "source": [
    "Run `test.ipynb` to see if you've successfully added records to this table."
   ]
  },
  {
   "cell_type": "markdown",
   "metadata": {
    "editable": true
   },
   "source": [
    "# Close Connection to Sparkify Database"
   ]
  },
  {
   "cell_type": "code",
   "execution_count": 60,
   "metadata": {
    "editable": true
   },
   "outputs": [],
   "source": [
    "conn.close()"
   ]
  },
  {
   "cell_type": "markdown",
   "metadata": {
    "editable": true
   },
   "source": [
    "# Implement `etl.py`\n",
    "Use what you've completed in this notebook to implement `etl.py`."
   ]
  },
  {
   "cell_type": "code",
   "execution_count": null,
   "metadata": {
    "editable": true
   },
   "outputs": [],
   "source": []
  }
 ],
 "metadata": {
  "kernelspec": {
   "display_name": "Python 3",
   "language": "python",
   "name": "python3"
  },
  "language_info": {
   "codemirror_mode": {
    "name": "ipython",
    "version": 3
   },
   "file_extension": ".py",
   "mimetype": "text/x-python",
   "name": "python",
   "nbconvert_exporter": "python",
   "pygments_lexer": "ipython3",
   "version": "3.6.3"
  }
 },
 "nbformat": 4,
 "nbformat_minor": 4
}
